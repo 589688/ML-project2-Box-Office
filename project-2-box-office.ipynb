{
 "cells": [
  {
   "cell_type": "markdown",
   "id": "78810ba4",
   "metadata": {},
   "source": [
    "# Assignment 2\n",
    "\n",
    "**BOX OFFICE PREDICTION**"
   ]
  },
  {
   "cell_type": "markdown",
   "id": "fca976c4",
   "metadata": {},
   "source": [
    "# Setup"
   ]
  },
  {
   "cell_type": "code",
   "execution_count": null,
   "id": "4c95db5f",
   "metadata": {
    "_cell_guid": "b1076dfc-b9ad-4769-8c92-a6c4dae69d19",
    "_uuid": "8f2839f25d086af736a60e9eeb907d3b93b6e0e5",
    "execution": {
     "iopub.execute_input": "2022-11-02T12:07:54.209856Z",
     "iopub.status.busy": "2022-11-02T12:07:54.209399Z",
     "iopub.status.idle": "2022-11-02T12:07:54.220596Z",
     "shell.execute_reply": "2022-11-02T12:07:54.219440Z"
    },
    "papermill": {
     "duration": 0.018706,
     "end_time": "2022-11-02T12:07:54.223464",
     "exception": false,
     "start_time": "2022-11-02T12:07:54.204758",
     "status": "completed"
    },
    "tags": []
   },
   "outputs": [],
   "source": [
    "# This Python 3 environment comes with many helpful analytics libraries installed\n",
    "# It is defined by the kaggle/python Docker image: https://github.com/kaggle/docker-python\n",
    "# For example, here's several helpful packages to load\n",
    "\n",
    "%matplotlib inline\n",
    "import numpy as np, pandas as pd, seaborn as sns, matplotlib.pyplot as plt\n",
    "from pathlib import Path\n",
    "\n",
    "# Input data files are available in the read-only \"../input/\" directory\n",
    "# For example, running this (by clicking run or pressing Shift+Enter) will list all files under the input directory\n",
    "\n",
    "import os\n",
    "for dirname, _, filenames in os.walk('/kaggle/input'):\n",
    "    for filename in filenames:\n",
    "        print(os.path.join(dirname, filename))\n",
    "\n",
    "# You can write up to 20GB to the current directory (/kaggle/working/) that gets preserved as output when you create a version using \"Save & Run All\" \n",
    "# You can also write temporary files to /kaggle/temp/, but they won't be saved outside of the current session"
   ]
  },
  {
   "cell_type": "markdown",
   "id": "d049fc3a",
   "metadata": {
    "papermill": {
     "duration": 0.001577,
     "end_time": "2022-11-02T12:07:54.227222",
     "exception": false,
     "start_time": "2022-11-02T12:07:54.225645",
     "status": "completed"
    },
    "tags": []
   },
   "source": [
    "# **1. Big picture**"
   ]
  },
  {
   "cell_type": "markdown",
   "id": "12303da3",
   "metadata": {},
   "source": []
  },
  {
   "cell_type": "markdown",
   "id": "49d69113",
   "metadata": {},
   "source": [
    "# **2. Get the data**"
   ]
  },
  {
   "cell_type": "code",
   "execution_count": null,
   "id": "08f9e3d9",
   "metadata": {
    "execution": {
     "iopub.execute_input": "2022-11-02T12:07:54.232689Z",
     "iopub.status.busy": "2022-11-02T12:07:54.232043Z",
     "iopub.status.idle": "2022-11-02T12:07:54.236021Z",
     "shell.execute_reply": "2022-11-02T12:07:54.235279Z"
    },
    "papermill": {
     "duration": 0.009029,
     "end_time": "2022-11-02T12:07:54.237991",
     "exception": false,
     "start_time": "2022-11-02T12:07:54.228962",
     "status": "completed"
    },
    "tags": []
   },
   "outputs": [],
   "source": [
    "DATA = Path(\"./DATA/\")\n",
    "train_df = pd.read_csv(DATA/'train.csv')\n",
    "test_df = pd.read_csv(DATA/'test.csv')\n",
    "sampleSubmission_df = pd.read_csv(DATA/'sample_submission.csv')\n"
   ]
  },
  {
   "cell_type": "markdown",
   "id": "4422d058",
   "metadata": {},
   "source": [
    "# Inspect the data"
   ]
  },
  {
   "cell_type": "code",
   "execution_count": null,
   "id": "9184ec1c",
   "metadata": {},
   "outputs": [],
   "source": [
    "train_df.head()"
   ]
  },
  {
   "cell_type": "code",
   "execution_count": null,
   "id": "d868513d",
   "metadata": {},
   "outputs": [],
   "source": [
    "test_df.head()"
   ]
  },
  {
   "cell_type": "code",
   "execution_count": null,
   "id": "65d089d6",
   "metadata": {},
   "outputs": [],
   "source": [
    "#View numical summary\n",
    "train_df.describe()"
   ]
  },
  {
   "cell_type": "code",
   "execution_count": null,
   "id": "2fc584d3",
   "metadata": {},
   "outputs": [],
   "source": [
    "test_df.describe()"
   ]
  },
  {
   "cell_type": "code",
   "execution_count": null,
   "id": "ecbde015",
   "metadata": {},
   "outputs": [],
   "source": [
    "train_df.info(25)"
   ]
  },
  {
   "cell_type": "code",
   "execution_count": null,
   "id": "0d764367",
   "metadata": {},
   "outputs": [],
   "source": [
    "test_df.info()"
   ]
  },
  {
   "cell_type": "markdown",
   "id": "b47a917c",
   "metadata": {},
   "source": [
    "**First thoughts after looking at the dataset:**\n",
    "The dataset contains 3000 observations. \n",
    "Most of the features are objects, this need to be modified or removed. \n",
    "Irrelevant features to be removed: `imdb_id`, `poster_path`, `status`, "
   ]
  },
  {
   "cell_type": "code",
   "execution_count": null,
   "id": "783ef9a2",
   "metadata": {},
   "outputs": [],
   "source": [
    "#Showing distribution of each numerical attribute\n",
    "train_df.hist(bins=50, figsize=(15,8), color=\"orange\")\n",
    "plt.show()"
   ]
  },
  {
   "cell_type": "markdown",
   "id": "45739952",
   "metadata": {},
   "source": [
    "Creating a copy without text attributes and irrelevant features "
   ]
  },
  {
   "cell_type": "code",
   "execution_count": null,
   "id": "1717bb8a",
   "metadata": {},
   "outputs": [],
   "source": [
    "# Creating copy of train set \n",
    "#train_num = train_df.drop(['imdb_id', 'original_title', 'overview', 'poster_path', 'status', 'tagline', 'title'], axis=1)"
   ]
  },
  {
   "cell_type": "markdown",
   "id": "a86e8132",
   "metadata": {},
   "source": [
    "# **3. Explore data to gain insights**"
   ]
  },
  {
   "cell_type": "markdown",
   "id": "0b1a47e0",
   "metadata": {},
   "source": [
    "We will deep dive into each object and see who we can use them "
   ]
  },
  {
   "cell_type": "markdown",
   "id": "4b5e4130",
   "metadata": {},
   "source": [
    "**belongs_to_collection** \n"
   ]
  },
  {
   "cell_type": "markdown",
   "id": "e3196dd8",
   "metadata": {},
   "source": [
    ">Fetch values that belongs to the collection and than save them to 0(false) 1(true)"
   ]
  },
  {
   "cell_type": "code",
   "execution_count": null,
   "id": "f00fba41",
   "metadata": {},
   "outputs": [],
   "source": [
    "temp_train =train_df[~(train_df[\"belongs_to_collection\"].isnull())].head(10)\n",
    "\n",
    "pd.set_option(\"display.max_colwidth\", None)\n",
    "\n",
    "temp_train[\"belongs_to_collection\"]"
   ]
  },
  {
   "cell_type": "markdown",
   "id": "c22edaaf",
   "metadata": {},
   "source": [
    ">In our pipline we set a movie to 1 if is in the collection and 0 otherwise "
   ]
  },
  {
   "cell_type": "markdown",
   "id": "685849d7",
   "metadata": {},
   "source": [
    "**genres**"
   ]
  },
  {
   "cell_type": "code",
   "execution_count": null,
   "id": "83014520",
   "metadata": {},
   "outputs": [],
   "source": [
    "train_df[\"genres\"].head()"
   ]
  },
  {
   "cell_type": "markdown",
   "id": "aac0a55f",
   "metadata": {},
   "source": [
    ">Serval moveis have diffrent numbers of geners. Maybe oneHotEncoder later"
   ]
  },
  {
   "cell_type": "markdown",
   "id": "a782bd58",
   "metadata": {},
   "source": [
    "**homepage**\n"
   ]
  },
  {
   "cell_type": "code",
   "execution_count": null,
   "id": "6a2879c5",
   "metadata": {},
   "outputs": [],
   "source": [
    "train_df[\"homepage\"].head()"
   ]
  },
  {
   "cell_type": "markdown",
   "id": "a73dd641",
   "metadata": {},
   "source": [
    ">Homepage can we remove\n"
   ]
  },
  {
   "cell_type": "markdown",
   "id": "d9b34994",
   "metadata": {},
   "source": [
    "**imdb_id**"
   ]
  },
  {
   "cell_type": "code",
   "execution_count": null,
   "id": "9e070f3d",
   "metadata": {},
   "outputs": [],
   "source": [
    "train_df[\"imdb_id\"].head()"
   ]
  },
  {
   "cell_type": "markdown",
   "id": "39e1cd84",
   "metadata": {},
   "source": [
    ">Imdb_id can we remove"
   ]
  },
  {
   "cell_type": "markdown",
   "id": "9ae4853f",
   "metadata": {},
   "source": [
    "**orginal_languge**"
   ]
  },
  {
   "cell_type": "code",
   "execution_count": null,
   "id": "29638d80",
   "metadata": {},
   "outputs": [],
   "source": [
    "train_df[\"original_language\"].head()"
   ]
  },
  {
   "cell_type": "markdown",
   "id": "2e928803",
   "metadata": {},
   "source": [
    ">We will just choose english"
   ]
  },
  {
   "cell_type": "markdown",
   "id": "b739df74",
   "metadata": {},
   "source": [
    "**orginal_title**"
   ]
  },
  {
   "cell_type": "code",
   "execution_count": 63,
   "id": "d669ec57",
   "metadata": {},
   "outputs": [
    {
     "data": {
      "text/plain": [
       "0                      Hot Tub Time Machine 2\n",
       "1    The Princess Diaries 2: Royal Engagement\n",
       "2                                    Whiplash\n",
       "3                                     Kahaani\n",
       "4                                        마린보이\n",
       "Name: original_title, dtype: object"
      ]
     },
     "execution_count": 63,
     "metadata": {},
     "output_type": "execute_result"
    }
   ],
   "source": [
    "train_df[\"original_title\"].head()"
   ]
  },
  {
   "cell_type": "markdown",
   "id": "71c0fda8",
   "metadata": {},
   "source": [
    "> title can we remove "
   ]
  },
  {
   "cell_type": "markdown",
   "id": "52199574",
   "metadata": {},
   "source": [
    "**overview**"
   ]
  },
  {
   "cell_type": "code",
   "execution_count": 62,
   "id": "66be811f",
   "metadata": {},
   "outputs": [
    {
     "data": {
      "text/plain": [
       "0                                                                                                                                                                                                                                                                                                                                                                                                                                              When Lou, who has become the \"father of the Internet,\" is shot by an unknown assailant, Jacob and Nick fire up the time machine again to save their friend.\n",
       "1                                                                                                                                                                                                Mia Thermopolis is now a college graduate and on her way to Genovia to take up her duties as princess. Her best friend Lilly also joins her for the summer. Mia continues her 'princess lessons'- riding horses side-saddle, archery, and other royal. But her complicated life is turned upside down once again when she not only learns that she is to take the crown as queen earlier than expected...\n",
       "2                                                                                                                                                                                                                                                                                                                                                                                                                                                                       Under the direction of a ruthless instructor, a talented young drummer begins to pursue perfection at any cost, even his humanity.\n",
       "3    Vidya Bagchi (Vidya Balan) arrives in Kolkata from London to find her missing husband Arnab Bagchi. Seven months pregnant and alone in a festive city, she begins a relentless search for her husband. With nothing to rely on except fragments from her memories about him, all clues seem to reach a dead end when everyone tries to convince Vidya that her husband does not exist. She slowly realises that nothing is what it seems. In a city soaked in lies, Vidya is determined to unravel the truth about her husband - for herself and her unborn child - even at the cost of her own life.\n",
       "4                                                                                                                                                                                                                                                                                                                                                                                                                                 Marine Boy is the story of a former national swimmer who finds himself in debt, and out of desperation is employed as a mule by a gangster boss, smuggling drugs by sea.\n",
       "Name: overview, dtype: object"
      ]
     },
     "execution_count": 62,
     "metadata": {},
     "output_type": "execute_result"
    }
   ],
   "source": [
    "train_df[\"overview\"].head()"
   ]
  },
  {
   "cell_type": "markdown",
   "id": "588f1a6d",
   "metadata": {},
   "source": [
    ">Maybe remove or make enCoding based on bustwords"
   ]
  },
  {
   "cell_type": "markdown",
   "id": "3e2df5ac",
   "metadata": {},
   "source": [
    "weokwekf"
   ]
  },
  {
   "cell_type": "markdown",
   "id": "4dc8b055",
   "metadata": {},
   "source": [
    "**poster_path**"
   ]
  },
  {
   "cell_type": "code",
   "execution_count": null,
   "id": "fad30209",
   "metadata": {},
   "outputs": [],
   "source": [
    "train_df[\"poster_path\"].head()"
   ]
  },
  {
   "cell_type": "markdown",
   "id": "99758bad",
   "metadata": {},
   "source": [
    ">Poster_path we will remove"
   ]
  },
  {
   "cell_type": "markdown",
   "id": "41d924c6",
   "metadata": {},
   "source": [
    "\n",
    "**production_companies**"
   ]
  },
  {
   "cell_type": "code",
   "execution_count": 61,
   "id": "76b3fab7",
   "metadata": {},
   "outputs": [
    {
     "data": {
      "text/plain": [
       "0    [{'name': 'Paramount Pictures', 'id': 4}, {'name': 'United Artists', 'id': 60}, {'name': 'Metro-Goldwyn-Mayer (MGM)', 'id': 8411}]\n",
       "1                                                                                           [{'name': 'Walt Disney Pictures', 'id': 2}]\n",
       "2      [{'name': 'Bold Films', 'id': 2266}, {'name': 'Blumhouse Productions', 'id': 3172}, {'name': 'Right of Way Films', 'id': 32157}]\n",
       "3                                                                                                                                   NaN\n",
       "4                                                                                                                                   NaN\n",
       "Name: production_companies, dtype: object"
      ]
     },
     "execution_count": 61,
     "metadata": {},
     "output_type": "execute_result"
    }
   ],
   "source": [
    "train_df[\"production_companies\"].head()"
   ]
  },
  {
   "cell_type": "markdown",
   "id": "9a39a048",
   "metadata": {},
   "source": [
    "Number som companies and a list that contains most popular companies "
   ]
  },
  {
   "cell_type": "markdown",
   "id": "3bf2b53d",
   "metadata": {},
   "source": [
    "**production_contries**"
   ]
  },
  {
   "cell_type": "code",
   "execution_count": 60,
   "id": "07d1f417",
   "metadata": {},
   "outputs": [
    {
     "data": {
      "text/plain": [
       "0    [{'iso_3166_1': 'US', 'name': 'United States of America'}]\n",
       "1    [{'iso_3166_1': 'US', 'name': 'United States of America'}]\n",
       "2    [{'iso_3166_1': 'US', 'name': 'United States of America'}]\n",
       "3                       [{'iso_3166_1': 'IN', 'name': 'India'}]\n",
       "4                 [{'iso_3166_1': 'KR', 'name': 'South Korea'}]\n",
       "Name: production_countries, dtype: object"
      ]
     },
     "execution_count": 60,
     "metadata": {},
     "output_type": "execute_result"
    }
   ],
   "source": [
    "train_df[\"production_countries\"].head()"
   ]
  },
  {
   "cell_type": "markdown",
   "id": "d344b32e",
   "metadata": {},
   "source": [
    "Number of countries where the movies has been created"
   ]
  },
  {
   "cell_type": "markdown",
   "id": "6b423afd",
   "metadata": {},
   "source": [
    "**release_date**"
   ]
  },
  {
   "cell_type": "code",
   "execution_count": 59,
   "id": "4d0671fb",
   "metadata": {},
   "outputs": [
    {
     "data": {
      "text/plain": [
       "0     2/20/15\n",
       "1      8/6/04\n",
       "2    10/10/14\n",
       "3      3/9/12\n",
       "4      2/5/09\n",
       "Name: release_date, dtype: object"
      ]
     },
     "execution_count": 59,
     "metadata": {},
     "output_type": "execute_result"
    }
   ],
   "source": [
    "train_df[\"release_date\"].head()"
   ]
  },
  {
   "cell_type": "markdown",
   "id": "2445aeb7",
   "metadata": {},
   "source": [
    "Relvant but needs to be turn into numbers"
   ]
  },
  {
   "cell_type": "markdown",
   "id": "45986dda",
   "metadata": {},
   "source": [
    "**spoken_languages**"
   ]
  },
  {
   "cell_type": "code",
   "execution_count": null,
   "id": "325e92b8",
   "metadata": {},
   "outputs": [],
   "source": [
    "train_df[\"spoken_languages\"].head(10)"
   ]
  },
  {
   "cell_type": "markdown",
   "id": "10978328",
   "metadata": {},
   "source": [
    "Make an attribute numberOfLanuages in movie"
   ]
  },
  {
   "cell_type": "markdown",
   "id": "2cd85f82",
   "metadata": {},
   "source": [
    "\n",
    "**status**"
   ]
  },
  {
   "cell_type": "code",
   "execution_count": null,
   "id": "74095090",
   "metadata": {},
   "outputs": [],
   "source": [
    "train_df[\"status\"].unique()"
   ]
  },
  {
   "cell_type": "markdown",
   "id": "f51d2120",
   "metadata": {},
   "source": [
    "Remove status and mabye remove 'Rumored' attribute"
   ]
  },
  {
   "cell_type": "markdown",
   "id": "f2200855",
   "metadata": {},
   "source": [
    "**tagline**"
   ]
  },
  {
   "cell_type": "code",
   "execution_count": null,
   "id": "d79d7b6b",
   "metadata": {},
   "outputs": [],
   "source": [
    "train_df[\"tagline\"].head()"
   ]
  },
  {
   "cell_type": "markdown",
   "id": "0cd8fe77",
   "metadata": {},
   "source": [
    "Title, tagline and keyWord is same catogory"
   ]
  },
  {
   "cell_type": "markdown",
   "id": "3d598489",
   "metadata": {},
   "source": [
    "**title**"
   ]
  },
  {
   "cell_type": "code",
   "execution_count": null,
   "id": "a46632a6",
   "metadata": {},
   "outputs": [],
   "source": [
    "train_df[\"title\"].head()"
   ]
  },
  {
   "cell_type": "markdown",
   "id": "260eb242",
   "metadata": {},
   "source": [
    "**Keywords**"
   ]
  },
  {
   "cell_type": "code",
   "execution_count": null,
   "id": "3136bef8",
   "metadata": {},
   "outputs": [],
   "source": [
    "train_df[\"Keywords\"].head()"
   ]
  },
  {
   "cell_type": "markdown",
   "id": "111383ec",
   "metadata": {},
   "source": [
    "**crew**"
   ]
  },
  {
   "cell_type": "code",
   "execution_count": null,
   "id": "5a49c30e",
   "metadata": {},
   "outputs": [],
   "source": [
    "train_df[\"crew\"].head()"
   ]
  },
  {
   "cell_type": "markdown",
   "id": "37b2a7e7",
   "metadata": {},
   "source": [
    "Count crewmebers in each movie "
   ]
  },
  {
   "cell_type": "markdown",
   "id": "06cefa6d",
   "metadata": {},
   "source": [
    "**cast**"
   ]
  },
  {
   "cell_type": "code",
   "execution_count": null,
   "id": "60297ad5",
   "metadata": {},
   "outputs": [],
   "source": [
    "train_df[\"cast\"].head()"
   ]
  },
  {
   "cell_type": "markdown",
   "id": "279ff863",
   "metadata": {},
   "source": [
    "Make a list of the most popular movie stars and check if they are in the cast"
   ]
  },
  {
   "cell_type": "code",
   "execution_count": null,
   "id": "e68194b2",
   "metadata": {},
   "outputs": [],
   "source": []
  },
  {
   "cell_type": "markdown",
   "id": "cf1a46b3",
   "metadata": {},
   "source": [
    "# **4. Prepare the data for ML model**"
   ]
  },
  {
   "cell_type": "markdown",
   "id": "1d29db5f",
   "metadata": {},
   "source": [
    "**pipline**"
   ]
  },
  {
   "cell_type": "code",
   "execution_count": null,
   "id": "28e8fe85",
   "metadata": {},
   "outputs": [],
   "source": []
  },
  {
   "cell_type": "markdown",
   "id": "d9a09671",
   "metadata": {},
   "source": [
    "# **5. Select and train a model**\n",
    "\n",
    "Train diffrent models "
   ]
  },
  {
   "cell_type": "code",
   "execution_count": null,
   "id": "f9101e7e",
   "metadata": {},
   "outputs": [],
   "source": []
  },
  {
   "cell_type": "markdown",
   "id": "79fd105e",
   "metadata": {},
   "source": [
    "# **6. Fine tune your model**"
   ]
  },
  {
   "cell_type": "code",
   "execution_count": null,
   "id": "8c31510d",
   "metadata": {},
   "outputs": [],
   "source": []
  },
  {
   "cell_type": "markdown",
   "id": "1ceab8d2",
   "metadata": {},
   "source": [
    "# **7. Ensambling**"
   ]
  },
  {
   "cell_type": "markdown",
   "id": "b10fceca",
   "metadata": {},
   "source": []
  },
  {
   "cell_type": "markdown",
   "id": "b413f67d",
   "metadata": {},
   "source": [
    "# **8. Present your solution**"
   ]
  },
  {
   "cell_type": "markdown",
   "id": "deae094a",
   "metadata": {},
   "source": []
  },
  {
   "cell_type": "markdown",
   "id": "111621a8",
   "metadata": {},
   "source": [
    "# **9. Launch, Monitor and Maintain your system**"
   ]
  },
  {
   "cell_type": "markdown",
   "id": "7051ff75",
   "metadata": {},
   "source": []
  },
  {
   "cell_type": "markdown",
   "id": "5f4a495b",
   "metadata": {},
   "source": [
    "# **10. Deployment**"
   ]
  }
 ],
 "metadata": {
  "kernelspec": {
   "display_name": "Python 3.9.13 ('base')",
   "language": "python",
   "name": "python3"
  },
  "language_info": {
   "codemirror_mode": {
    "name": "ipython",
    "version": 3
   },
   "file_extension": ".py",
   "mimetype": "text/x-python",
   "name": "python",
   "nbconvert_exporter": "python",
   "pygments_lexer": "ipython3",
   "version": "3.9.13"
  },
  "papermill": {
   "default_parameters": {},
   "duration": 9.128189,
   "end_time": "2022-11-02T12:07:54.867174",
   "environment_variables": {},
   "exception": null,
   "input_path": "__notebook__.ipynb",
   "output_path": "__notebook__.ipynb",
   "parameters": {},
   "start_time": "2022-11-02T12:07:45.738985",
   "version": "2.3.4"
  },
  "vscode": {
   "interpreter": {
    "hash": "04c2774e0eee72fdf7c569530da90ed42b07f746012a791613028ba7115aa244"
   }
  }
 },
 "nbformat": 4,
 "nbformat_minor": 5
}
